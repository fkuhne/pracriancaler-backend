{
 "cells": [
  {
   "cell_type": "code",
   "execution_count": 60,
   "metadata": {},
   "outputs": [
    {
     "name": "stdout",
     "output_type": "stream",
     "text": [
      "You are an experienced teacher and when you answer any question, you follow these rules:\n",
      "- Do it in a very didactic way\n",
      "- Don't use any complicated words or an elaborate language\n",
      "- Provide relevant and accurate information\n",
      "- Give examples and illustrations when possible\n",
      "- Check for understanding and feedback\n",
      "- Focus only on the subject of the question asked\n",
      "- Use about 600 words in your answer, but not less than that\n",
      "- Explain to a 5 year old child\n",
      "- Use Brazilian Portuguese language as the medium of communication\n",
      "\n",
      "Now you have to talk about the following subject:\n",
      "\n",
      "teoria da relatividade\n",
      "\n",
      "Answer:\n",
      "\n",
      "A teoria da relatividade é um conjunto de teorias da física que foi formulado pelo cientista Albert Einstein e descreve a estrutura básica da realidade física. É a fundação da ciência moderna e foi projetada para explicar certos fenômenos observados na natureza, como a luz visível, a gravidade e a estrutura do espaço-tempo. A teoria da relatividade tornou possível a explicação da gravidade como uma força associada ao fluxo de massa-energia entre o espaço-tempo, de modo que toda e qualquer massa-energia influencia o espaço-tempo e vice-versa.\n",
      "\n",
      "A teoria da relatividade de Einstein é uma base para toda a física moderna, pois permite que a luz visível e outras formas de energia sejam entendidas como partículas e ondas ligadas ao espaço-tempo, ou seja, como partículas e ondas gravitacionais. A teoria da relatividade foi confirmada em experimentos e estudos detalhados. Por exemplo, Einstein tinha previsto que objetos com massa, como o Sol, poderiam curvar o espaço-tempo, o que foi confirmado quando objetos como o Sol afetaram a órbita de planetas, de acordo com as previsões de Einstein.\n",
      "\n",
      "Em suma, a teoria da relatividade é uma teoria física muito importante que explica a gravidade e a estrutura do espaço-tempo. Ela foi confirmada em experimentos e estudos detalhados e é a base para toda a física moderna.\n"
     ]
    }
   ],
   "source": [
    "from langchain.llms import OpenAI\n",
    "from langchain.prompts import PromptTemplate\n",
    "\n",
    "# Size of the answer, in number of words\n",
    "answer_size = {\"small\": \"150\", \"medium\": \"300\", \"large\": \"600\"}\n",
    "\n",
    "question_template = PromptTemplate(\n",
    "    input_variables=[\"question\", \"age\", \"size\", \"language\"],  # list of variables\n",
    "    template=\"\"\"You are an experienced teacher and when you answer any question, you follow these rules:\n",
    "- Do it in a very didactic way\n",
    "- Don't use any complicated words or an elaborate language\n",
    "- Provide relevant and accurate information\n",
    "- Give examples and illustrations when possible\n",
    "- Check for understanding and feedback\n",
    "- Focus only on the subject of the question asked\n",
    "- Use about {size} words in your answer, but not less than that\n",
    "- Explain to a {age} year old child\n",
    "- Use {language} language as the medium of communication\n",
    "\n",
    "Now you have to talk about the following subject:\n",
    "\n",
    "{question}\n",
    "\n",
    "Answer:\n",
    "\"\"\"\n",
    ")\n",
    "\n",
    "# data = {\"temp\": 0.8, \"question\": \"teoria da relatividade\", \"age\": 30, \"size\": \"large\"}\n",
    "data = {\"question\": \"teoria da relatividade\", \"language\":\"Brazilian Portuguese\", \"size\": \"large\"}\n",
    "\n",
    "temp = data.get(\"temp\", 0.9)\n",
    "question = data[\"question\"]\n",
    "age = data.get(\"age\", 5)\n",
    "size = data.get(\"size\", \"small\")\n",
    "language = data.get(\"language\", \"Brazilian Portuguese\")\n",
    "\n",
    "llm = OpenAI(temperature = temp, max_tokens=int(answer_size[size])*2)\n",
    "\n",
    "question = question_template.format(question=question, age=age, size=answer_size[size], language=language)\n",
    "\n",
    "print(question)\n",
    "\n",
    "print(llm(question))"
   ]
  },
  {
   "cell_type": "code",
   "execution_count": null,
   "metadata": {},
   "outputs": [],
   "source": []
  }
 ],
 "metadata": {
  "kernelspec": {
   "display_name": "Python 3",
   "language": "python",
   "name": "python3"
  },
  "language_info": {
   "codemirror_mode": {
    "name": "ipython",
    "version": 3
   },
   "file_extension": ".py",
   "mimetype": "text/x-python",
   "name": "python",
   "nbconvert_exporter": "python",
   "pygments_lexer": "ipython3",
   "version": "3.10.11"
  }
 },
 "nbformat": 4,
 "nbformat_minor": 2
}
